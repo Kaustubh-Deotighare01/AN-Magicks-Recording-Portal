{
  "nbformat": 4,
  "nbformat_minor": 0,
  "metadata": {
    "colab": {
      "provenance": [],
      "authorship_tag": "ABX9TyMhaGSqAftnLG/RVXJVWL84",
      "include_colab_link": true
    },
    "kernelspec": {
      "name": "python3",
      "display_name": "Python 3"
    },
    "language_info": {
      "name": "python"
    }
  },
  "cells": [
    {
      "cell_type": "markdown",
      "metadata": {
        "id": "view-in-github",
        "colab_type": "text"
      },
      "source": [
        "<a href=\"https://colab.research.google.com/github/Kaustubh-Deotighare01/AN-Magicks-Recording-Portal/blob/main/DAA_PR_10.ipynb\" target=\"_parent\"><img src=\"https://colab.research.google.com/assets/colab-badge.svg\" alt=\"Open In Colab\"/></a>"
      ]
    },
    {
      "cell_type": "code",
      "execution_count": 1,
      "metadata": {
        "colab": {
          "base_uri": "https://localhost:8080/"
        },
        "id": "VcF-JTLcqq9R",
        "outputId": "42d97791-f54a-49ce-9d27-28f03a953e79"
      },
      "outputs": [
        {
          "output_type": "stream",
          "name": "stdout",
          "text": [
            "Requirement already satisfied: networkx in /usr/local/lib/python3.10/dist-packages (3.4.2)\n",
            "Requirement already satisfied: matplotlib in /usr/local/lib/python3.10/dist-packages (3.8.0)\n",
            "Requirement already satisfied: contourpy>=1.0.1 in /usr/local/lib/python3.10/dist-packages (from matplotlib) (1.3.0)\n",
            "Requirement already satisfied: cycler>=0.10 in /usr/local/lib/python3.10/dist-packages (from matplotlib) (0.12.1)\n",
            "Requirement already satisfied: fonttools>=4.22.0 in /usr/local/lib/python3.10/dist-packages (from matplotlib) (4.54.1)\n",
            "Requirement already satisfied: kiwisolver>=1.0.1 in /usr/local/lib/python3.10/dist-packages (from matplotlib) (1.4.7)\n",
            "Requirement already satisfied: numpy<2,>=1.21 in /usr/local/lib/python3.10/dist-packages (from matplotlib) (1.26.4)\n",
            "Requirement already satisfied: packaging>=20.0 in /usr/local/lib/python3.10/dist-packages (from matplotlib) (24.1)\n",
            "Requirement already satisfied: pillow>=6.2.0 in /usr/local/lib/python3.10/dist-packages (from matplotlib) (10.4.0)\n",
            "Requirement already satisfied: pyparsing>=2.3.1 in /usr/local/lib/python3.10/dist-packages (from matplotlib) (3.2.0)\n",
            "Requirement already satisfied: python-dateutil>=2.7 in /usr/local/lib/python3.10/dist-packages (from matplotlib) (2.8.2)\n",
            "Requirement already satisfied: six>=1.5 in /usr/local/lib/python3.10/dist-packages (from python-dateutil>=2.7->matplotlib) (1.16.0)\n"
          ]
        }
      ],
      "source": [
        "pip install networkx matplotlib\n"
      ]
    },
    {
      "cell_type": "code",
      "source": [
        "import networkx as nx\n",
        "import matplotlib.pyplot as plt\n",
        "\n",
        "def plot_graph(G, pos):\n",
        "    plt.figure(figsize=(8, 6))\n",
        "    edge_labels = nx.get_edge_attributes(G, 'weight')\n",
        "    nx.draw(G, pos, with_labels=True, node_color='skyblue', edge_color='gray', node_size=1500, font_size=15)\n",
        "    nx.draw_networkx_edge_labels(G, pos, edge_labels=edge_labels)\n",
        "    plt.show()\n",
        "\n",
        "def get_user_graph():\n",
        "    graph_type = input(\"Choose graph type (directed/undirected): \").strip().lower()\n",
        "    if graph_type == 'directed':\n",
        "        G = nx.DiGraph()\n",
        "    else:\n",
        "        G = nx.Graph()\n",
        "\n",
        "    print(\"Enter edge information (start end weight). Type 'done' when finished adding edges.\")\n",
        "    pos = {}  # Position dictionary for node placement in visualization\n",
        "    while True:\n",
        "        edge_input = input(\"Enter edge (start end weight) or 'done' to finish: \")\n",
        "        if edge_input.lower() == 'done':\n",
        "            break\n",
        "        start, end, weight = edge_input.split()\n",
        "        weight = float(weight)\n",
        "\n",
        "        # Add nodes and edge\n",
        "        G.add_edge(start, end, weight=weight)\n",
        "\n",
        "        # Get coordinates for nodes if they don't exist\n",
        "        if start not in pos:\n",
        "            x, y = map(float, input(f\"Enter coordinates for {start} (x y): \").split())\n",
        "            pos[start] = (x, y)\n",
        "        if end not in pos:\n",
        "            x, y = map(float, input(f\"Enter coordinates for {end} (x y): \").split())\n",
        "            pos[end] = (x, y)\n",
        "\n",
        "    return G, pos\n",
        "\n",
        "def minimum_spanning_tree(G):\n",
        "    if not G.is_directed():\n",
        "        mst = nx.minimum_spanning_tree(G, algorithm=\"prim\")\n",
        "        return mst\n",
        "    else:\n",
        "        print(\"Minimum Spanning Tree is not applicable for directed graphs.\")\n",
        "        return None\n",
        "\n",
        "def topological_sort(G):\n",
        "    if nx.is_directed_acyclic_graph(G):\n",
        "        return list(nx.topological_sort(G))\n",
        "    else:\n",
        "        print(\"Graph is not a Directed Acyclic Graph (DAG), cannot perform topological sort.\")\n",
        "        return None\n",
        "\n",
        "def main():\n",
        "    print(\"Graph Algorithm Visualizer\")\n",
        "    print(\"1. Minimum Spanning Tree\")\n",
        "    print(\"2. Topological Sorting\")\n",
        "\n",
        "    G, pos = get_user_graph()\n",
        "\n",
        "    choice = input(\"Select an option (1 or 2): \")\n",
        "\n",
        "    if choice == '1':\n",
        "        mst = minimum_spanning_tree(G)\n",
        "        if mst:\n",
        "            print(\"Minimum Spanning Tree edges:\")\n",
        "            print(mst.edges(data=True))\n",
        "            plot_graph(mst, pos)\n",
        "\n",
        "    elif choice == '2':\n",
        "        order = topological_sort(G)\n",
        "        if order:\n",
        "            print(\"Topological Sort Order:\", order)\n",
        "            plot_graph(G, pos)\n",
        "    else:\n",
        "        print(\"Invalid choice.\")\n",
        "\n",
        "if __name__ == \"__main__\":\n",
        "    main()\n"
      ],
      "metadata": {
        "colab": {
          "base_uri": "https://localhost:8080/",
          "height": 896
        },
        "id": "XoZcnP-ErB_r",
        "outputId": "106f90f1-66e4-40ba-c921-a369b7876377"
      },
      "execution_count": 3,
      "outputs": [
        {
          "output_type": "stream",
          "name": "stdout",
          "text": [
            "Graph Algorithm Visualizer\n",
            "1. Minimum Spanning Tree\n",
            "2. Topological Sorting\n",
            "Choose graph type (directed/undirected): undirected\n",
            "Enter edge information (start end weight). Type 'done' when finished adding edges.\n",
            "Enter edge (start end weight) or 'done' to finish: A B 4.5\n",
            "Enter coordinates for A (x y): 1 2\n",
            "Enter coordinates for B (x y): 2 3\n",
            "Enter edge (start end weight) or 'done' to finish: A C 2.0\n",
            "Enter coordinates for C (x y): 3 1\n",
            "Enter edge (start end weight) or 'done' to finish: B C 1.5\n",
            "Enter edge (start end weight) or 'done' to finish: done\n",
            "Select an option (1 or 2): 1\n",
            "Minimum Spanning Tree edges:\n",
            "[('A', 'C', {'weight': 2.0}), ('B', 'C', {'weight': 1.5})]\n"
          ]
        },
        {
          "output_type": "display_data",
          "data": {
            "text/plain": [
              "<Figure size 800x600 with 1 Axes>"
            ],
            "image/png": "[encoded data removed]"
          },
          "metadata": {}
        }
      ]
    }
  ]
}